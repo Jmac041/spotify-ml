{
 "cells": [
  {
   "cell_type": "code",
   "execution_count": null,
   "id": "a0c93c81",
   "metadata": {
    "scrolled": false
   },
   "outputs": [],
   "source": [
    "pip install seaborn"
   ]
  },
  {
   "cell_type": "code",
   "execution_count": null,
   "id": "cce7dfa0",
   "metadata": {},
   "outputs": [],
   "source": [
    "pip install plotly"
   ]
  },
  {
   "cell_type": "code",
   "execution_count": null,
   "id": "a19c2ca2",
   "metadata": {},
   "outputs": [],
   "source": [
    "import os\n",
    "import numpy as np\n",
    "import pandas as pd\n",
    "import matplotlib.pyplot as plt\n",
    "import seaborn as sns\n",
    "from sklearn.decomposition import PCA\n",
    "from sklearn.preprocessing import StandardScaler\n",
    "import plotly.express as px\n",
    "from sklearn.cluster import KMeans\n",
    "from sklearn.pipeline import Pipeline\n",
    "from sklearn.manifold import TSNE\n",
    "from sklearn.metrics import euclidean_distances\n",
    "from scipy.spatial.distance import cdist"
   ]
  },
  {
   "cell_type": "markdown",
   "id": "519783a6",
   "metadata": {},
   "source": [
    "# Description of the Dataset"
   ]
  },
  {
   "cell_type": "markdown",
   "id": "49df8737",
   "metadata": {},
   "source": [
    "Our dataset is from Kaggle.com. It contains song data specifically features such as (artist name, popularity, key, release_date, etc). In total each song has 19 features given, and there are 107,654 songs (instances). Our target variable is a song recommendation based on past listening habits. Below, we load the dataset, try to locate null values, and plot some of the interesting data."
   ]
  },
  {
   "cell_type": "code",
   "execution_count": null,
   "id": "c797b1c9",
   "metadata": {},
   "outputs": [],
   "source": [
    "# Load the dataset\n",
    "data = pd.read_csv('../data.csv')"
   ]
  },
  {
   "cell_type": "code",
   "execution_count": null,
   "id": "da968b3f",
   "metadata": {},
   "outputs": [],
   "source": [
    "print(data.head())"
   ]
  },
  {
   "cell_type": "code",
   "execution_count": null,
   "id": "08097753",
   "metadata": {},
   "outputs": [],
   "source": [
    "# Check if there are any empty values in the dataset\n",
    "data.isnull().values.any()"
   ]
  },
  {
   "cell_type": "code",
   "execution_count": null,
   "id": "722f7fff",
   "metadata": {},
   "outputs": [],
   "source": [
    "data.isnull().sum()"
   ]
  },
  {
   "cell_type": "code",
   "execution_count": null,
   "id": "40c2b03b",
   "metadata": {
    "scrolled": false
   },
   "outputs": [],
   "source": [
    "# Drop non-numeric columns\n",
    "df_numeric = data.drop(columns=['artists', 'id', 'name', 'release_date'])\n",
    "\n",
    "# Calculate correlation matrix\n",
    "correlation_matrix = df_numeric.corr()\n",
    "\n",
    "# Plot the correlation matrix using Seaborn\n",
    "plt.figure(figsize=(12, 8))\n",
    "sns.heatmap(correlation_matrix, annot=True, fmt=\".2f\")\n",
    "plt.title('Correlation Matrix of Sound Features')\n",
    "plt.show()"
   ]
  },
  {
   "cell_type": "markdown",
   "id": "5766628e",
   "metadata": {},
   "source": [
    "Using this heat map, we are able to see the correlation of different features on our dataset. This will help us in the future to use this features to hopefully recommend similar songs. From this we can see some interesting correlations, as with year and populatiry, or with loudness and energy that could be useful for the next steps in this project."
   ]
  },
  {
   "cell_type": "code",
   "execution_count": null,
   "id": "f350af89",
   "metadata": {},
   "outputs": [],
   "source": [
    "# Plotting the distribution of the key attribute\n",
    "plt.figure(figsize=(10, 6))\n",
    "plt.hist(data['key'], bins=range(0, 13), alpha=0.7, edgecolor='black')\n",
    "plt.title('Distribution of Musical Keys')\n",
    "plt.xlabel('Key')\n",
    "plt.ylabel('Frequency')\n",
    "plt.xticks(range(0, 12))\n",
    "plt.grid(axis='y', alpha=0.75)\n",
    "\n",
    "# Display the plot\n",
    "plt.show()"
   ]
  },
  {
   "cell_type": "markdown",
   "id": "3f7d1002",
   "metadata": {},
   "source": [
    "We can see that even the lowest frequency of key 3 has about 7500 instances which is more than enough for testing purposes. This validates the quality of our dataset. It also gives us a sense of how balanced our data is, and from this we can infer that we are working with a good quality dataset."
   ]
  },
  {
   "cell_type": "code",
   "execution_count": null,
   "id": "1a76783a",
   "metadata": {},
   "outputs": [],
   "source": [
    "# Group by year and calculate the mean energy for each year\n",
    "energy_trend = data.groupby('year')['energy'].mean()\n",
    "\n",
    "# Convert index and values to numPy arrays\n",
    "years = energy_trend.index.values\n",
    "energy_means = energy_trend.values\n",
    "\n",
    "# Plot the trend of energy over the years\n",
    "plt.figure(figsize=(12, 6))\n",
    "plt.plot(years, energy_means, linestyle='-')\n",
    "plt.title('Trend of Energy in Songs Over the Years')\n",
    "plt.xlabel('Year')\n",
    "plt.ylabel('Mean Energy')\n",
    "plt.grid(True)\n",
    "plt.show()"
   ]
  },
  {
   "cell_type": "code",
   "execution_count": null,
   "id": "0546ee21",
   "metadata": {
    "scrolled": true
   },
   "outputs": [],
   "source": [
    "# Group by 'year' and calculate the mean loudness for each year\n",
    "loudness_trend = data.groupby('year')['loudness'].mean()\n",
    "\n",
    "# Convert index and values to numPy arrays\n",
    "years = loudness_trend.index.values\n",
    "loudness_means = loudness_trend.values\n",
    "\n",
    "# Plot the trend of loudness over the years\n",
    "plt.figure(figsize=(12, 6))\n",
    "plt.plot(years, loudness_means, linestyle='-')\n",
    "plt.title('Trend of Loudness in Songs Over the Years')\n",
    "plt.xlabel('Year')\n",
    "plt.ylabel('Mean Loudness')\n",
    "plt.grid(True)\n",
    "plt.show()"
   ]
  },
  {
   "cell_type": "code",
   "execution_count": null,
   "id": "94d66b66",
   "metadata": {},
   "outputs": [],
   "source": [
    "fig, axs = plt.subplots(nrows=3, ncols=4, constrained_layout=True, figsize=(20,15))\n",
    "sns.histplot(ax=axs[0][0],x=data[\"popularity\"],color=\"grey\")\n",
    "sns.histplot(ax=axs[0][1],x=data[\"duration_ms\"],color=\"red\")\n",
    "sns.histplot(ax=axs[0][2],x=data[\"danceability\"],color=\"blue\")\n",
    "sns.histplot(ax=axs[0][3],x=data[\"energy\"],color=\"purple\")\n",
    "sns.histplot(ax=axs[1][0],x=data[\"loudness\"],color=\"black\")\n",
    "sns.histplot(ax=axs[1][1],x=data[\"speechiness\"],color=\"red\")\n",
    "sns.histplot(ax=axs[1][2],x=data[\"acousticness\"],color=\"orange\")\n",
    "sns.histplot(ax=axs[1][3],x=data[\"instrumentalness\"],color=\"yellow\")\n",
    "sns.histplot(ax=axs[2][0],x=data[\"liveness\"],color=\"green\")\n",
    "sns.histplot(ax=axs[2][1],x=data[\"valence\"],color=\"brown\")\n",
    "sns.histplot(ax=axs[2][2],x=data[\"tempo\"],color=\"magenta\")\n",
    "sns.histplot(ax=axs[2][3],x=data[\"year\"],color=\"indigo\")\n",
    "plt.show()"
   ]
  },
  {
   "cell_type": "markdown",
   "id": "3edcb0a1",
   "metadata": {},
   "source": [
    "Both of the graphs above trend energy and loudness, respectively, over the decades. This helps us understand how music has evolved and shifted throughout the decades, and helps us correlate these features with what a user would like. Since there are obivous trends in how the music in each decade sounds, we can maybe gain some insight into what decade of music to recommend to a user if we know specific patterns on the average loudness/energy or other feature of songs they listen to."
   ]
  },
  {
   "cell_type": "code",
   "execution_count": null,
   "id": "9d5d65ce",
   "metadata": {},
   "outputs": [],
   "source": [
    "# Select only the numerical features for clustering\n",
    "# Includes year, but could also remove to prevent listening to certain eras \n",
    "# Define the features to cluster\n",
    "features_to_cluster = [\n",
    "    'acousticness', 'danceability', 'energy', 'instrumentalness',\n",
    "    'liveness', 'loudness', 'speechiness', 'tempo', 'valence'\n",
    "]\n",
    "\n",
    "# Extract the relevant numerical features\n",
    "X = data[features_to_cluster]\n",
    "\n",
    "# Standardize the features\n",
    "scaler = StandardScaler()\n",
    "X_scaled = scaler.fit_transform(X)"
   ]
  },
  {
   "cell_type": "code",
   "execution_count": null,
   "id": "26d7b5fb",
   "metadata": {},
   "outputs": [],
   "source": [
    "# Define a unique seed for reproducibility\n",
    "seed = 42\n",
    "kmeans = KMeans(n_clusters=15, random_state=seed)\n",
    "\n",
    "# Fit the K-means model\n",
    "kmeans.fit(X_scaled)\n",
    "\n",
    "# Assign the cluster labels to each song\n",
    "data['cluster_label'] = kmeans.labels_"
   ]
  },
  {
   "cell_type": "code",
   "execution_count": null,
   "id": "91bcc94d",
   "metadata": {},
   "outputs": [],
   "source": [
    "# Create a PCA pipeline\n",
    "pca_pipeline = Pipeline([('scaler', StandardScaler()), ('PCA', PCA(n_components=2))])\n",
    "song_embedding = pca_pipeline.fit_transform(X)\n",
    "projection = pd.DataFrame(data=song_embedding, columns=['x', 'y'])\n",
    "projection['title'] = data['name']\n",
    "projection['cluster'] = data['cluster_label']\n",
    "\n",
    "# Visualization\n",
    "fig = px.scatter(\n",
    "    projection, x='x', y='y', color='cluster', hover_data=['title']\n",
    ")\n",
    "fig.show()"
   ]
  },
  {
   "cell_type": "code",
   "execution_count": null,
   "id": "1fab7c4d",
   "metadata": {},
   "outputs": [],
   "source": [
    "# Get centroids of each cluster\n",
    "centroids = scaler.inverse_transform(kmeans.cluster_centers_)\n",
    "centroids_df = pd.DataFrame(centroids, columns=features_to_cluster)\n",
    "\n",
    "# Analyze the centroids to understand each cluster\n",
    "print(centroids_df)"
   ]
  },
  {
   "cell_type": "code",
   "execution_count": null,
   "id": "f716cfc7",
   "metadata": {},
   "outputs": [],
   "source": [
    "def recommend_from_each_cluster(data, scaler, kmeans, features_to_cluster, num_clusters):\n",
    "    recommendations = []\n",
    "    \n",
    "    # Convert the features of the songs to a numpy array for distance calculation\n",
    "    songs_features = scaler.transform(data[features_to_cluster].values)\n",
    "    \n",
    "    for cluster_num in range(num_clusters):\n",
    "        # Filter the songs that belong to the current cluster\n",
    "        cluster_songs = data[data['cluster_label'] == cluster_num]\n",
    "        cluster_features = songs_features[cluster_songs.index, :]\n",
    "        \n",
    "        # Calculate the distance of each song in the cluster to the centroid\n",
    "        centroid = kmeans.cluster_centers_[cluster_num]\n",
    "        distances = np.linalg.norm(cluster_features - centroid, axis=1)\n",
    "        \n",
    "        # Find the index of the song with the smallest distance to the centroid\n",
    "        closest_song_idx = cluster_songs.index[np.argmin(distances)]\n",
    "        closest_song = data.loc[closest_song_idx]\n",
    "        \n",
    "        recommendations.append(closest_song)\n",
    "    \n",
    "    return pd.DataFrame(recommendations)\n",
    "\n",
    "# Call the function to get the recommendations\n",
    "recommendations = recommend_from_each_cluster(data, scaler, kmeans, features_to_cluster, num_clusters=15)\n",
    "print(recommendations[['name', 'artists', 'cluster_label']])"
   ]
  }
 ],
 "metadata": {
  "kernelspec": {
   "display_name": "Python 3 (ipykernel)",
   "language": "python",
   "name": "python3"
  },
  "language_info": {
   "codemirror_mode": {
    "name": "ipython",
    "version": 3
   },
   "file_extension": ".py",
   "mimetype": "text/x-python",
   "name": "python",
   "nbconvert_exporter": "python",
   "pygments_lexer": "ipython3",
   "version": "3.10.12"
  }
 },
 "nbformat": 4,
 "nbformat_minor": 5
}
